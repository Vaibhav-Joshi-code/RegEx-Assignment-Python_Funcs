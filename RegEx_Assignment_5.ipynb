{
  "nbformat": 4,
  "nbformat_minor": 5,
  "metadata": {
    "kernelspec": {
      "display_name": "Python 3",
      "language": "python",
      "name": "python3"
    },
    "language_info": {
      "codemirror_mode": {
        "name": "ipython",
        "version": 3
      },
      "file_extension": ".py",
      "mimetype": "text/x-python",
      "name": "python",
      "nbconvert_exporter": "python",
      "pygments_lexer": "ipython3",
      "version": "3.8.8"
    },
    "colab": {
      "name": "RegEx Assignment 5.ipynb",
      "provenance": [],
      "collapsed_sections": []
    }
  },
  "cells": [
    {
      "cell_type": "markdown",
      "metadata": {
        "id": "2134c0fd"
      },
      "source": [
        "### Q1."
      ],
      "id": "2134c0fd"
    },
    {
      "cell_type": "code",
      "metadata": {
        "colab": {
          "base_uri": "https://localhost:8080/"
        },
        "id": "b447ac82",
        "outputId": "c7797fb8-d0d0-4d05-a49e-605349d0b1e5"
      },
      "source": [
        "def isprime(n):\n",
        "    if n==1:\n",
        "        return 0\n",
        "    for i in range(2,int(n**(0.5))+1):\n",
        "        if n%i==0:\n",
        "            return 0\n",
        "    else:\n",
        "        return 1\n",
        "list1=[1,2,3,5,8,7,6,9,10]\n",
        "sum=0\n",
        "for i in list1:\n",
        "    if isprime(i)==1:\n",
        "        sum+=i\n",
        "print(sum)"
      ],
      "id": "b447ac82",
      "execution_count": 1,
      "outputs": [
        {
          "output_type": "stream",
          "text": [
            "17\n"
          ],
          "name": "stdout"
        }
      ]
    },
    {
      "cell_type": "markdown",
      "metadata": {
        "id": "a6b601d0"
      },
      "source": [
        "### Q2."
      ],
      "id": "a6b601d0"
    },
    {
      "cell_type": "code",
      "metadata": {
        "colab": {
          "base_uri": "https://localhost:8080/"
        },
        "id": "7af06be3",
        "outputId": "7cbcfcb5-4d94-40d9-ff36-00be4ec6a932"
      },
      "source": [
        "list1=[1,3,24,55,20,97]\n",
        "templist=[]\n",
        "temp=0\n",
        "flag=-1\n",
        "for i in list1:\n",
        "    if (i not in templist) & (i>temp):\n",
        "        flag=1\n",
        "        templist.append(i)\n",
        "        temp=i\n",
        "    else:\n",
        "        flag=0\n",
        "        break\n",
        "if flag==1:\n",
        "    print(\"True\")\n",
        "else:\n",
        "    print(\"False\")"
      ],
      "id": "7af06be3",
      "execution_count": 2,
      "outputs": [
        {
          "output_type": "stream",
          "text": [
            "False\n"
          ],
          "name": "stdout"
        }
      ]
    },
    {
      "cell_type": "markdown",
      "metadata": {
        "id": "84bf348a"
      },
      "source": [
        "### Q3"
      ],
      "id": "84bf348a"
    },
    {
      "cell_type": "code",
      "metadata": {
        "colab": {
          "base_uri": "https://localhost:8080/"
        },
        "id": "db70b92f",
        "outputId": "d9861e05-f58d-4602-d97b-32301344b4ce"
      },
      "source": [
        "list1=[1,2,4,7,11,16]\n",
        "prev=-1\n",
        "present=0\n",
        "flag=-1\n",
        "for i in range(len(list1)-1):\n",
        "    present=list1[i+1]-list1[i]\n",
        "    if present> prev:\n",
        "        flag=1\n",
        "        prev=present\n",
        "    else:\n",
        "        flag=0\n",
        "        break\n",
        "if flag==1:\n",
        "    print(\"True\")\n",
        "else:\n",
        "    print(\"False\")\n",
        "    "
      ],
      "id": "db70b92f",
      "execution_count": 3,
      "outputs": [
        {
          "output_type": "stream",
          "text": [
            "True\n"
          ],
          "name": "stdout"
        }
      ]
    },
    {
      "cell_type": "markdown",
      "metadata": {
        "id": "97bfbd7a"
      },
      "source": [
        "### Q4"
      ],
      "id": "97bfbd7a"
    },
    {
      "cell_type": "code",
      "metadata": {
        "colab": {
          "base_uri": "https://localhost:8080/"
        },
        "id": "9e2eb288",
        "outputId": "248e53dc-0bfe-4ebe-c6f5-d0b725f88d48"
      },
      "source": [
        "def toString(List):\n",
        "    return ''.join(List)\n",
        "def permute(a, l, r):\n",
        "    if l==r:\n",
        "        print (toString(a))\n",
        "    else:\n",
        "        for i in range(l,r+1):\n",
        "            a[l], a[i] = a[i], a[l]\n",
        "            permute(a, l+1, r)\n",
        "            a[l], a[i] = a[i], a[l] \n",
        "\n",
        "string = \"ABC\"\n",
        "n = len(string)\n",
        "a = list(string)\n",
        "permute(a, 0, n-1)"
      ],
      "id": "9e2eb288",
      "execution_count": 4,
      "outputs": [
        {
          "output_type": "stream",
          "text": [
            "ABC\n",
            "ACB\n",
            "BAC\n",
            "BCA\n",
            "CBA\n",
            "CAB\n"
          ],
          "name": "stdout"
        }
      ]
    }
  ]
}